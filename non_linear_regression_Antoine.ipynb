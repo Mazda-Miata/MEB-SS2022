{
  "nbformat": 4,
  "nbformat_minor": 0,
  "metadata": {
    "colab": {
      "name": "non_linear_regression_Antoine.ipynb",
      "provenance": [],
      "authorship_tag": "ABX9TyOUF72KyhxpejaFwpSI0b4m",
      "include_colab_link": true
    },
    "kernelspec": {
      "name": "python3",
      "display_name": "Python 3"
    },
    "language_info": {
      "name": "python"
    }
  },
  "cells": [
    {
      "cell_type": "markdown",
      "metadata": {
        "id": "view-in-github",
        "colab_type": "text"
      },
      "source": [
        "<a href=\"https://colab.research.google.com/github/Mazda-Miata/MEB-SS2022/blob/main/non_linear_regression_Antoine.ipynb\" target=\"_parent\"><img src=\"https://colab.research.google.com/assets/colab-badge.svg\" alt=\"Open In Colab\"/></a>"
      ]
    },
    {
      "cell_type": "code",
      "execution_count": null,
      "metadata": {
        "colab": {
          "base_uri": "https://localhost:8080/"
        },
        "id": "lhFB3aABBRpa",
        "outputId": "41a4bad8-be97-4ae2-b983-db03bc8450b1"
      },
      "outputs": [
        {
          "output_type": "stream",
          "name": "stdout",
          "text": [
            "--2022-01-23 17:42:30--  https://raw.githubusercontent.com/profteachkids/CHE2064_Spring2022/main/WaterVaporPressure.csv\n",
            "Resolving raw.githubusercontent.com (raw.githubusercontent.com)... 185.199.108.133, 185.199.109.133, 185.199.110.133, ...\n",
            "Connecting to raw.githubusercontent.com (raw.githubusercontent.com)|185.199.108.133|:443... connected.\n",
            "HTTP request sent, awaiting response... 200 OK\n",
            "Length: 1300 (1.3K) [text/plain]\n",
            "Saving to: ‘WaterVaporPressure.csv’\n",
            "\n",
            "WaterVaporPressure. 100%[===================>]   1.27K  --.-KB/s    in 0s      \n",
            "\n",
            "2022-01-23 17:42:30 (45.5 MB/s) - ‘WaterVaporPressure.csv’ saved [1300/1300]\n",
            "\n"
          ]
        }
      ],
      "source": [
        "# non linear regression\n",
        "!wget https://raw.githubusercontent.com/profteachkids/CHE2064_Spring2022/main/WaterVaporPressure.csv"
      ]
    },
    {
      "cell_type": "code",
      "source": [
        "# import necessary packages\n",
        "import numpy as np\n",
        "\n",
        "#we want the minimize function\n",
        "from scipy.optimize import minimize\n",
        "#we want to plot our data\n",
        "from plotly.subplots import make_subplots\n",
        "#just making this dark mode\n",
        "import plotly.io as pio \n",
        "pio.templates.default='plotly_dark'"
      ],
      "metadata": {
        "id": "lIRKrfbMCDFo"
      },
      "execution_count": null,
      "outputs": []
    },
    {
      "cell_type": "code",
      "source": [
        "data = np.loadtxt('WaterVaporPressure.csv',delimiter=',')\n",
        "T = data[:,0]\n",
        "# you want to call values from the array, data[x,y], where x is row and y is collumn\n",
        "# python indexes at 0 \n",
        "# when you use a colon, :, you want all values in x, otherwise every row\n",
        "# and you want the first collumn so you put in 0 y\n",
        "P = data[:,1]\n"
      ],
      "metadata": {
        "id": "phi2Ae7zCf_J"
      },
      "execution_count": null,
      "outputs": []
    },
    {
      "cell_type": "code",
      "source": [
        "# log10(P) = A - B / (C + T) \n",
        "log10P = np.log10(P)"
      ],
      "metadata": {
        "id": "z-MLJZSIDEP4"
      },
      "execution_count": 25,
      "outputs": []
    },
    {
      "cell_type": "code",
      "source": [
        "#square sum error function\n",
        "def sse(v):\n",
        "  A,B,C = v\n",
        "  #finding sum squared difference\n",
        "  return np.sum(((A - B / (C + T) ) - log10P )**2) \n",
        "\n",
        "# Pretend we DO know A, B and C. This function compares the data that we got from the experiment vs. what the Antoine equation says we should have. "
      ],
      "metadata": {
        "id": "fqki9BENGPfU"
      },
      "execution_count": 26,
      "outputs": []
    },
    {
      "cell_type": "code",
      "source": [
        "# Use minimize to get the sum squared error function as small as possible. get it as close to A B and C as it should be based on the data. \n",
        "# Using scipy.optimize.minimize to get the error function as small as possible\n",
        "A,B,C = minimize(sse,[1.,1000.,20.]).x\n",
        "\n"
      ],
      "metadata": {
        "colab": {
          "base_uri": "https://localhost:8080/"
        },
        "id": "QUULjflPHwvY",
        "outputId": "e3b7ec82-7427-435c-9736-f6bdb1809aa4"
      },
      "execution_count": 35,
      "outputs": [
        {
          "output_type": "execute_result",
          "data": {
            "text/plain": [
              "0.0005381098279143388"
            ]
          },
          "metadata": {},
          "execution_count": 35
        }
      ]
    },
    {
      "cell_type": "code",
      "source": [
        "# creating an object names 'fig' \n",
        "Tplot = np.linspace(300,650,150)\n",
        "\n",
        "fig = make_subplots()\n",
        "# from the fig object, use function add_scatter \n",
        "fig.add_scatter(x=T,y=log10P,mode='markers')\n",
        "\n",
        "# plotting line of best fit\n",
        "\n",
        "fig.add_scatter(x=Tplot, y= (A - B / (C + Tplot)), mode='lines', name='non linear antoine' )"
      ],
      "metadata": {
        "id": "F01zAY-kDFA9",
        "colab": {
          "base_uri": "https://localhost:8080/",
          "height": 542
        },
        "outputId": "efdcc3b5-dd7d-4a07-cab6-93ea8bf1293d"
      },
      "execution_count": 34,
      "outputs": [
        {
          "output_type": "display_data",
          "data": {
            "text/html": [
              "<html>\n",
              "<head><meta charset=\"utf-8\" /></head>\n",
              "<body>\n",
              "    <div>\n",
              "            <script src=\"https://cdnjs.cloudflare.com/ajax/libs/mathjax/2.7.5/MathJax.js?config=TeX-AMS-MML_SVG\"></script><script type=\"text/javascript\">if (window.MathJax) {MathJax.Hub.Config({SVG: {font: \"STIX-Web\"}});}</script>\n",
              "                <script type=\"text/javascript\">window.PlotlyConfig = {MathJaxConfig: 'local'};</script>\n",
              "        <script src=\"https://cdn.plot.ly/plotly-latest.min.js\"></script>    \n",
              "            <div id=\"2fd08f4b-4f92-4914-a9d1-ba69b98f6b57\" class=\"plotly-graph-div\" style=\"height:525px; width:100%;\"></div>\n",
              "            <script type=\"text/javascript\">\n",
              "                \n",
              "                    window.PLOTLYENV=window.PLOTLYENV || {};\n",
              "                    \n",
              "                if (document.getElementById(\"2fd08f4b-4f92-4914-a9d1-ba69b98f6b57\")) {\n",
              "                    Plotly.newPlot(\n",
              "                        '2fd08f4b-4f92-4914-a9d1-ba69b98f6b57',\n",
              "                        [{\"mode\": \"markers\", \"type\": \"scatter\", \"x\": [293.15, 303.15, 313.15, 323.15, 333.15, 343.15, 412.75, 432.85, 451.25, 463.15, 473.35, 482.55, 492.65, 504.15, 507.77, 521.28, 535.18, 541.49, 552.6, 557.97, 561.69, 571.31, 645.95, 646.04, 646.07, 647.09], \"y\": [3.380211241711606, 3.63002085111341, 3.8652816849956104, 4.091033516054471, 4.299550878499019, 4.494488538273192, 5.552668216112194, 5.787460474518415, 5.982271233039568, 6.098643725817057, 6.193681029541281, 6.275311354541811, 6.361350024352267, 6.45484486000851, 6.483301952358167, 6.585911710319434, 6.6858312746260635, 6.729488769179562, 6.803866634284985, 6.838786144946595, 6.862608363964942, 6.922777341928798, 7.335939069031729, 7.338336946561072, 7.338536173355659, 7.32911300268182]}, {\"mode\": \"lines\", \"name\": \"non linear antoine\", \"type\": \"scatter\", \"x\": [300.0, 302.3489932885906, 304.6979865771812, 307.0469798657718, 309.3959731543624, 311.744966442953, 314.09395973154363, 316.4429530201342, 318.79194630872485, 321.1409395973154, 323.48993288590606, 325.83892617449663, 328.18791946308727, 330.53691275167785, 332.8859060402684, 335.23489932885906, 337.5838926174497, 339.93288590604027, 342.28187919463085, 344.6308724832215, 346.97986577181206, 349.3288590604027, 351.67785234899327, 354.0268456375839, 356.3758389261745, 358.7248322147651, 361.0738255033557, 363.4228187919463, 365.7718120805369, 368.12080536912754, 370.4697986577181, 372.8187919463087, 375.1677852348993, 377.51677852348996, 379.86577181208054, 382.2147651006711, 384.56375838926175, 386.9127516778523, 389.26174496644296, 391.61073825503354, 393.9597315436242, 396.30872483221475, 398.6577181208054, 401.00671140939596, 403.35570469798654, 405.7046979865772, 408.0536912751678, 410.4026845637584, 412.75167785234896, 415.1006711409396, 417.44966442953023, 419.7986577181208, 422.1476510067114, 424.496644295302, 426.8456375838926, 429.19463087248323, 431.5436241610738, 433.8926174496644, 436.241610738255, 438.59060402684565, 440.93959731543623, 443.2885906040268, 445.63758389261744, 447.9865771812081, 450.33557046979865, 452.68456375838923, 455.03355704697987, 457.3825503355705, 459.7315436241611, 462.08053691275165, 464.4295302013423, 466.7785234899329, 469.1275167785235, 471.4765100671141, 473.82550335570465, 476.1744966442953, 478.5234899328859, 480.8724832214765, 483.2214765100671, 485.5704697986577, 487.91946308724835, 490.2684563758389, 492.6174496644295, 494.96644295302013, 497.31543624161077, 499.66442953020135, 502.0134228187919, 504.36241610738256, 506.71140939597313, 509.06040268456377, 511.40939597315435, 513.7583892617449, 516.1073825503356, 518.4563758389262, 520.8053691275168, 523.1543624161073, 525.5033557046979, 527.8523489932886, 530.2013422818792, 532.5503355704698, 534.8993288590605, 537.248322147651, 539.5973154362416, 541.9463087248322, 544.2953020134228, 546.6442953020135, 548.993288590604, 551.3422818791946, 553.6912751677852, 556.0402684563758, 558.3892617449665, 560.738255033557, 563.0872483221476, 565.4362416107383, 567.7852348993288, 570.1342281879195, 572.48322147651, 574.8322147651006, 577.1812080536913, 579.5302013422819, 581.8791946308725, 584.2281879194632, 586.5771812080536, 588.9261744966443, 591.2751677852349, 593.6241610738255, 595.9731543624162, 598.3221476510067, 600.6711409395973, 603.0201342281879, 605.3691275167785, 607.7181208053692, 610.0671140939597, 612.4161073825503, 614.765100671141, 617.1140939597315, 619.4630872483222, 621.8120805369127, 624.1610738255033, 626.510067114094, 628.8590604026846, 631.2080536912752, 633.5570469798658, 635.9060402684563, 638.255033557047, 640.6040268456376, 642.9530201342282, 645.3020134228188, 647.6510067114093, 650.0], \"y\": [3.555128240328637, 3.613813704734137, 3.6714729894900255, 3.7281327771231005, 3.7838188330504003, 3.838556044646169, 3.8923684583287104, 3.9452793147831935, 3.9973110824288502, 4.048485489231766, 4.098823552957949, 4.148345609955118, 4.197071342546065, 4.245019805111058, 4.292209448931954, 4.338658145866031, 4.384383210913351, 4.429401423737565, 4.47372904919629, 4.517381856933878, 4.560375140086121, 4.602723733143539, 4.644442029017035, 4.6855439953472136, 4.726043190096134, 4.7659527764581, 4.8052855371239085, 4.844053887931053, 4.882269890930467, 4.919945266898738, 4.95709140732302, 4.99371938588441, 5.029839969464101, 5.065463628695276, 5.1006005480824905, 5.1352606357090735, 5.169453532551977, 5.203188621422474, 5.236475035550145, 5.269321666826596, 5.301737173724603, 5.333729988907436, 5.36530832654246, 5.396480189332304, 5.427253375276256, 5.457635484173875, 5.487633923882225, 5.5172559163375325, 5.546508503351581, 5.575398552192573, 5.603932760959791, 5.6321176637608605, 5.659959635700046, 5.687464897685564, 5.714639521063521, 5.741489432085758, 5.7680204162184605, 5.794238122298166, 5.820148066541395, 5.845755636413907, 5.871066094365279, 5.896084581434245, 5.9208161207299765, 5.945265620794262, 5.969437878849315, 5.993337583935717, 6.016969319944813, 6.040337568549674, 6.063446712038566, 6.086301036054684, 6.108904732245759, 6.131261900826959, 6.1533765530604, 6.175252613654398, 6.19689392308548, 6.218304239846049, 6.239487242620447, 6.260446532392086, 6.2811856344841654, 6.301708000536406, 6.322017010420131, 6.342115974093939, 6.362008133402076, 6.381696663817605, 6.401184676132285, 6.420475218095109, 6.439571276001265, 6.458475776233289, 6.477191586756061, 6.495721518567267, 6.51406832710485, 6.53223471361295, 6.55022332646773, 6.568036762464473, 6.585677568067265, 6.6031482406225175, 6.620451229537542, 6.637588937425358, 6.6545637212168485, 6.671377893241349, 6.6880337222767, 6.7045334345697825, 6.720879214828486, 6.737073207186039, 6.753117516138609, 6.76901420745701, 6.78476530907337, 6.800372811943545, 6.815838670886054, 6.831164805398272, 6.846353100450606, 6.861405407259335, 6.87632354403879, 6.891109296733502, 6.905764419730946, 6.920290636555487, 6.934689640544077, 6.948963095504292, 6.963112636355224, 6.977139869751758, 6.991046374692722, 7.0048337031134125, 7.018503380462939, 7.032056906266869, 7.045495754675569, 7.058821374998702, 7.072035192226271, 7.085138607536589, 7.098132998791586, 7.111019721019792, 7.123800106887375, 7.136475467157551, 7.149047091138728, 7.161516247121691, 7.173884182806127, 7.186152125716824, 7.198321283609802, 7.210392844868673, 7.222367978891516, 7.234247836468498, 7.246033550150532, 7.257726234609205, 7.269326986988205, 7.280836887246503, 7.292256998493498, 7.303588367316347, 7.314832024099703, 7.325988983338046, 7.337060243940822, 7.348046789530577]}],\n",
              "                        {\"template\": {\"data\": {\"bar\": [{\"error_x\": {\"color\": \"#f2f5fa\"}, \"error_y\": {\"color\": \"#f2f5fa\"}, \"marker\": {\"line\": {\"color\": \"rgb(17,17,17)\", \"width\": 0.5}}, \"type\": \"bar\"}], \"barpolar\": [{\"marker\": {\"line\": {\"color\": \"rgb(17,17,17)\", \"width\": 0.5}}, \"type\": \"barpolar\"}], \"carpet\": [{\"aaxis\": {\"endlinecolor\": \"#A2B1C6\", \"gridcolor\": \"#506784\", \"linecolor\": \"#506784\", \"minorgridcolor\": \"#506784\", \"startlinecolor\": \"#A2B1C6\"}, \"baxis\": {\"endlinecolor\": \"#A2B1C6\", \"gridcolor\": \"#506784\", \"linecolor\": \"#506784\", \"minorgridcolor\": \"#506784\", \"startlinecolor\": \"#A2B1C6\"}, \"type\": \"carpet\"}], \"choropleth\": [{\"colorbar\": {\"outlinewidth\": 0, \"ticks\": \"\"}, \"type\": \"choropleth\"}], \"contour\": [{\"colorbar\": {\"outlinewidth\": 0, \"ticks\": \"\"}, \"colorscale\": [[0.0, \"#0d0887\"], [0.1111111111111111, \"#46039f\"], [0.2222222222222222, \"#7201a8\"], [0.3333333333333333, \"#9c179e\"], [0.4444444444444444, \"#bd3786\"], [0.5555555555555556, \"#d8576b\"], [0.6666666666666666, \"#ed7953\"], [0.7777777777777778, \"#fb9f3a\"], [0.8888888888888888, \"#fdca26\"], [1.0, \"#f0f921\"]], \"type\": \"contour\"}], \"contourcarpet\": [{\"colorbar\": {\"outlinewidth\": 0, \"ticks\": \"\"}, \"type\": \"contourcarpet\"}], \"heatmap\": [{\"colorbar\": {\"outlinewidth\": 0, \"ticks\": \"\"}, \"colorscale\": [[0.0, \"#0d0887\"], [0.1111111111111111, \"#46039f\"], [0.2222222222222222, \"#7201a8\"], [0.3333333333333333, \"#9c179e\"], [0.4444444444444444, \"#bd3786\"], [0.5555555555555556, \"#d8576b\"], [0.6666666666666666, \"#ed7953\"], [0.7777777777777778, \"#fb9f3a\"], [0.8888888888888888, \"#fdca26\"], [1.0, \"#f0f921\"]], \"type\": \"heatmap\"}], \"heatmapgl\": [{\"colorbar\": {\"outlinewidth\": 0, \"ticks\": \"\"}, \"colorscale\": [[0.0, \"#0d0887\"], [0.1111111111111111, \"#46039f\"], [0.2222222222222222, \"#7201a8\"], [0.3333333333333333, \"#9c179e\"], [0.4444444444444444, \"#bd3786\"], [0.5555555555555556, \"#d8576b\"], [0.6666666666666666, \"#ed7953\"], [0.7777777777777778, \"#fb9f3a\"], [0.8888888888888888, \"#fdca26\"], [1.0, \"#f0f921\"]], \"type\": \"heatmapgl\"}], \"histogram\": [{\"marker\": {\"colorbar\": {\"outlinewidth\": 0, \"ticks\": \"\"}}, \"type\": \"histogram\"}], \"histogram2d\": [{\"colorbar\": {\"outlinewidth\": 0, \"ticks\": \"\"}, \"colorscale\": [[0.0, \"#0d0887\"], [0.1111111111111111, \"#46039f\"], [0.2222222222222222, \"#7201a8\"], [0.3333333333333333, \"#9c179e\"], [0.4444444444444444, \"#bd3786\"], [0.5555555555555556, \"#d8576b\"], [0.6666666666666666, \"#ed7953\"], [0.7777777777777778, \"#fb9f3a\"], [0.8888888888888888, \"#fdca26\"], [1.0, \"#f0f921\"]], \"type\": \"histogram2d\"}], \"histogram2dcontour\": [{\"colorbar\": {\"outlinewidth\": 0, \"ticks\": \"\"}, \"colorscale\": [[0.0, \"#0d0887\"], [0.1111111111111111, \"#46039f\"], [0.2222222222222222, \"#7201a8\"], [0.3333333333333333, \"#9c179e\"], [0.4444444444444444, \"#bd3786\"], [0.5555555555555556, \"#d8576b\"], [0.6666666666666666, \"#ed7953\"], [0.7777777777777778, \"#fb9f3a\"], [0.8888888888888888, \"#fdca26\"], [1.0, \"#f0f921\"]], \"type\": \"histogram2dcontour\"}], \"mesh3d\": [{\"colorbar\": {\"outlinewidth\": 0, \"ticks\": \"\"}, \"type\": \"mesh3d\"}], \"parcoords\": [{\"line\": {\"colorbar\": {\"outlinewidth\": 0, \"ticks\": \"\"}}, \"type\": \"parcoords\"}], \"pie\": [{\"automargin\": true, \"type\": \"pie\"}], \"scatter\": [{\"marker\": {\"line\": {\"color\": \"#283442\"}}, \"type\": \"scatter\"}], \"scatter3d\": [{\"line\": {\"colorbar\": {\"outlinewidth\": 0, \"ticks\": \"\"}}, \"marker\": {\"colorbar\": {\"outlinewidth\": 0, \"ticks\": \"\"}}, \"type\": \"scatter3d\"}], \"scattercarpet\": [{\"marker\": {\"colorbar\": {\"outlinewidth\": 0, \"ticks\": \"\"}}, \"type\": \"scattercarpet\"}], \"scattergeo\": [{\"marker\": {\"colorbar\": {\"outlinewidth\": 0, \"ticks\": \"\"}}, \"type\": \"scattergeo\"}], \"scattergl\": [{\"marker\": {\"line\": {\"color\": \"#283442\"}}, \"type\": \"scattergl\"}], \"scattermapbox\": [{\"marker\": {\"colorbar\": {\"outlinewidth\": 0, \"ticks\": \"\"}}, \"type\": \"scattermapbox\"}], \"scatterpolar\": [{\"marker\": {\"colorbar\": {\"outlinewidth\": 0, \"ticks\": \"\"}}, \"type\": \"scatterpolar\"}], \"scatterpolargl\": [{\"marker\": {\"colorbar\": {\"outlinewidth\": 0, \"ticks\": \"\"}}, \"type\": \"scatterpolargl\"}], \"scatterternary\": [{\"marker\": {\"colorbar\": {\"outlinewidth\": 0, \"ticks\": \"\"}}, \"type\": \"scatterternary\"}], \"surface\": [{\"colorbar\": {\"outlinewidth\": 0, \"ticks\": \"\"}, \"colorscale\": [[0.0, \"#0d0887\"], [0.1111111111111111, \"#46039f\"], [0.2222222222222222, \"#7201a8\"], [0.3333333333333333, \"#9c179e\"], [0.4444444444444444, \"#bd3786\"], [0.5555555555555556, \"#d8576b\"], [0.6666666666666666, \"#ed7953\"], [0.7777777777777778, \"#fb9f3a\"], [0.8888888888888888, \"#fdca26\"], [1.0, \"#f0f921\"]], \"type\": \"surface\"}], \"table\": [{\"cells\": {\"fill\": {\"color\": \"#506784\"}, \"line\": {\"color\": \"rgb(17,17,17)\"}}, \"header\": {\"fill\": {\"color\": \"#2a3f5f\"}, \"line\": {\"color\": \"rgb(17,17,17)\"}}, \"type\": \"table\"}]}, \"layout\": {\"annotationdefaults\": {\"arrowcolor\": \"#f2f5fa\", \"arrowhead\": 0, \"arrowwidth\": 1}, \"coloraxis\": {\"colorbar\": {\"outlinewidth\": 0, \"ticks\": \"\"}}, \"colorscale\": {\"diverging\": [[0, \"#8e0152\"], [0.1, \"#c51b7d\"], [0.2, \"#de77ae\"], [0.3, \"#f1b6da\"], [0.4, \"#fde0ef\"], [0.5, \"#f7f7f7\"], [0.6, \"#e6f5d0\"], [0.7, \"#b8e186\"], [0.8, \"#7fbc41\"], [0.9, \"#4d9221\"], [1, \"#276419\"]], \"sequential\": [[0.0, \"#0d0887\"], [0.1111111111111111, \"#46039f\"], [0.2222222222222222, \"#7201a8\"], [0.3333333333333333, \"#9c179e\"], [0.4444444444444444, \"#bd3786\"], [0.5555555555555556, \"#d8576b\"], [0.6666666666666666, \"#ed7953\"], [0.7777777777777778, \"#fb9f3a\"], [0.8888888888888888, \"#fdca26\"], [1.0, \"#f0f921\"]], \"sequentialminus\": [[0.0, \"#0d0887\"], [0.1111111111111111, \"#46039f\"], [0.2222222222222222, \"#7201a8\"], [0.3333333333333333, \"#9c179e\"], [0.4444444444444444, \"#bd3786\"], [0.5555555555555556, \"#d8576b\"], [0.6666666666666666, \"#ed7953\"], [0.7777777777777778, \"#fb9f3a\"], [0.8888888888888888, \"#fdca26\"], [1.0, \"#f0f921\"]]}, \"colorway\": [\"#636efa\", \"#EF553B\", \"#00cc96\", \"#ab63fa\", \"#FFA15A\", \"#19d3f3\", \"#FF6692\", \"#B6E880\", \"#FF97FF\", \"#FECB52\"], \"font\": {\"color\": \"#f2f5fa\"}, \"geo\": {\"bgcolor\": \"rgb(17,17,17)\", \"lakecolor\": \"rgb(17,17,17)\", \"landcolor\": \"rgb(17,17,17)\", \"showlakes\": true, \"showland\": true, \"subunitcolor\": \"#506784\"}, \"hoverlabel\": {\"align\": \"left\"}, \"hovermode\": \"closest\", \"mapbox\": {\"style\": \"dark\"}, \"paper_bgcolor\": \"rgb(17,17,17)\", \"plot_bgcolor\": \"rgb(17,17,17)\", \"polar\": {\"angularaxis\": {\"gridcolor\": \"#506784\", \"linecolor\": \"#506784\", \"ticks\": \"\"}, \"bgcolor\": \"rgb(17,17,17)\", \"radialaxis\": {\"gridcolor\": \"#506784\", \"linecolor\": \"#506784\", \"ticks\": \"\"}}, \"scene\": {\"xaxis\": {\"backgroundcolor\": \"rgb(17,17,17)\", \"gridcolor\": \"#506784\", \"gridwidth\": 2, \"linecolor\": \"#506784\", \"showbackground\": true, \"ticks\": \"\", \"zerolinecolor\": \"#C8D4E3\"}, \"yaxis\": {\"backgroundcolor\": \"rgb(17,17,17)\", \"gridcolor\": \"#506784\", \"gridwidth\": 2, \"linecolor\": \"#506784\", \"showbackground\": true, \"ticks\": \"\", \"zerolinecolor\": \"#C8D4E3\"}, \"zaxis\": {\"backgroundcolor\": \"rgb(17,17,17)\", \"gridcolor\": \"#506784\", \"gridwidth\": 2, \"linecolor\": \"#506784\", \"showbackground\": true, \"ticks\": \"\", \"zerolinecolor\": \"#C8D4E3\"}}, \"shapedefaults\": {\"line\": {\"color\": \"#f2f5fa\"}}, \"sliderdefaults\": {\"bgcolor\": \"#C8D4E3\", \"bordercolor\": \"rgb(17,17,17)\", \"borderwidth\": 1, \"tickwidth\": 0}, \"ternary\": {\"aaxis\": {\"gridcolor\": \"#506784\", \"linecolor\": \"#506784\", \"ticks\": \"\"}, \"baxis\": {\"gridcolor\": \"#506784\", \"linecolor\": \"#506784\", \"ticks\": \"\"}, \"bgcolor\": \"rgb(17,17,17)\", \"caxis\": {\"gridcolor\": \"#506784\", \"linecolor\": \"#506784\", \"ticks\": \"\"}}, \"title\": {\"x\": 0.05}, \"updatemenudefaults\": {\"bgcolor\": \"#506784\", \"borderwidth\": 0}, \"xaxis\": {\"automargin\": true, \"gridcolor\": \"#283442\", \"linecolor\": \"#506784\", \"ticks\": \"\", \"title\": {\"standoff\": 15}, \"zerolinecolor\": \"#283442\", \"zerolinewidth\": 2}, \"yaxis\": {\"automargin\": true, \"gridcolor\": \"#283442\", \"linecolor\": \"#506784\", \"ticks\": \"\", \"title\": {\"standoff\": 15}, \"zerolinecolor\": \"#283442\", \"zerolinewidth\": 2}}}, \"xaxis\": {\"anchor\": \"y\", \"domain\": [0.0, 1.0]}, \"yaxis\": {\"anchor\": \"x\", \"domain\": [0.0, 1.0]}},\n",
              "                        {\"responsive\": true}\n",
              "                    ).then(function(){\n",
              "                            \n",
              "var gd = document.getElementById('2fd08f4b-4f92-4914-a9d1-ba69b98f6b57');\n",
              "var x = new MutationObserver(function (mutations, observer) {{\n",
              "        var display = window.getComputedStyle(gd).display;\n",
              "        if (!display || display === 'none') {{\n",
              "            console.log([gd, 'removed!']);\n",
              "            Plotly.purge(gd);\n",
              "            observer.disconnect();\n",
              "        }}\n",
              "}});\n",
              "\n",
              "// Listen for the removal of the full notebook cells\n",
              "var notebookContainer = gd.closest('#notebook-container');\n",
              "if (notebookContainer) {{\n",
              "    x.observe(notebookContainer, {childList: true});\n",
              "}}\n",
              "\n",
              "// Listen for the clearing of the current output cell\n",
              "var outputEl = gd.closest('.output');\n",
              "if (outputEl) {{\n",
              "    x.observe(outputEl, {childList: true});\n",
              "}}\n",
              "\n",
              "                        })\n",
              "                };\n",
              "                \n",
              "            </script>\n",
              "        </div>\n",
              "</body>\n",
              "</html>"
            ]
          },
          "metadata": {}
        }
      ]
    },
    {
      "cell_type": "code",
      "source": [
        ""
      ],
      "metadata": {
        "id": "spfl2RgHIy-m"
      },
      "execution_count": null,
      "outputs": []
    }
  ]
}